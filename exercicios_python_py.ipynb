{
  "nbformat": 4,
  "nbformat_minor": 0,
  "metadata": {
    "colab": {
      "provenance": [],
      "authorship_tag": "ABX9TyNsdaek5MDd81W+G2jrG0+w",
      "include_colab_link": true
    },
    "kernelspec": {
      "name": "python3",
      "display_name": "Python 3"
    },
    "language_info": {
      "name": "python"
    }
  },
  "cells": [
    {
      "cell_type": "markdown",
      "metadata": {
        "id": "view-in-github",
        "colab_type": "text"
      },
      "source": [
        "<a href=\"https://colab.research.google.com/github/felipelimars/intro_python/blob/main/exercicios_python_py.ipynb\" target=\"_parent\"><img src=\"https://colab.research.google.com/assets/colab-badge.svg\" alt=\"Open In Colab\"/></a>"
      ]
    },
    {
      "cell_type": "code",
      "execution_count": null,
      "metadata": {
        "colab": {
          "base_uri": "https://localhost:8080/"
        },
        "id": "EIKJ47noDR6j",
        "outputId": "2dc20540-8460-4754-d894-1d392c4ebca9"
      },
      "outputs": [
        {
          "output_type": "stream",
          "name": "stdout",
          "text": [
            "Digite um número!1\n",
            "Digite outro número: 2\n",
            "O número 2 é maior que 1\n"
          ]
        }
      ],
      "source": [
        "# Exercício 1 - Python Estruturado\n",
        "# Verifica qual número é maior\n",
        "a = int(input(\"Digite um número!\"))\n",
        "b = int(input(\"Digite outro número: \"))\n",
        "if a > b:\n",
        "    print(\"O número\", a, \"é maior que\", b)\n",
        "else:\n",
        "    print(\"O número\", b, \"é maior que\", a)"
      ]
    },
    {
      "cell_type": "code",
      "source": [
        "# Exercício 2 - Python estruturado\n",
        "# Verifica se um número é par ou ímpar\n",
        "numero = int(input(\"Digite um número: \"))\n",
        "if numero % 2 == 0:\n",
        "  print(\"O\", numero, \"é par\")\n",
        "else:\n",
        "  print(\"O\", numero ,\"é impar\")"
      ],
      "metadata": {
        "colab": {
          "base_uri": "https://localhost:8080/"
        },
        "id": "l3UY1DhrGmJl",
        "outputId": "e6cf5c29-30e7-4f45-f480-43d601cb0a56"
      },
      "execution_count": null,
      "outputs": [
        {
          "output_type": "stream",
          "name": "stdout",
          "text": [
            "Digite um número: 2\n",
            "O 2 é par\n"
          ]
        }
      ]
    },
    {
      "cell_type": "code",
      "source": [
        "# Exercício 3 - Python estruturado\n",
        "# Verifica se um aluno está aprovado, em recuperação ou reprovado\n",
        "nota = float(input(\"Digite a nota do aluno: \"))\n",
        "if nota >= 7:\n",
        "  print(\"Aprovado!\")\n",
        "elif nota >= 5 and nota < 7:\n",
        "  print(\"Recuperação!\")\n",
        "else:\n",
        "  print(\"Reprovado!\")"
      ],
      "metadata": {
        "colab": {
          "base_uri": "https://localhost:8080/"
        },
        "id": "1_TBDf76ITur",
        "outputId": "031db1eb-0284-4b0a-e5bd-00b01ee99975"
      },
      "execution_count": null,
      "outputs": [
        {
          "output_type": "stream",
          "name": "stdout",
          "text": [
            "Digite a nota do aluno: 10\n",
            "Aprovado!\n"
          ]
        }
      ]
    },
    {
      "cell_type": "code",
      "source": [
        "# Exercício 4 - Python estruturado\n",
        "# Verifica se há desconto com base na quantidade de produtos e valor\n",
        "ValorDoProduto = float(10.00)\n",
        "Quantidade = int(input(\"Digite a quantidade de produtos: \"))\n",
        "ValorTotal = ValorDoProduto * Quantidade\n",
        "if ValorTotal <= 100.00:\n",
        "    print(\"Sua compra não tem descontos\")\n",
        "elif ValorTotal >= 110.00 and ValorTotal <= 200.00:\n",
        "    print(\"Sua Compra tem 10% de desconto\")\n",
        "else:\n",
        "    print(\"Sua compra tem 20% de desconto\")\n"
      ],
      "metadata": {
        "colab": {
          "base_uri": "https://localhost:8080/"
        },
        "id": "8J2IvyTeK8Xh",
        "outputId": "e012577f-6ff9-46a1-de3a-5f5e7f92bd29"
      },
      "execution_count": null,
      "outputs": [
        {
          "output_type": "stream",
          "name": "stdout",
          "text": [
            "Digite a quantidade de produtos: 11\n",
            "Sua Compra tem 10% de desconto\n"
          ]
        }
      ]
    },
    {
      "cell_type": "code",
      "source": [
        "# Exercício 5 - Python estruturado\n",
        "# Soma números (elementos) pares de uma lista\n",
        "lista = [1,2,3,4,5,6,7,8,9,10]\n",
        "soma = 0\n",
        "for num in lista:\n",
        "    if num % 2 == 0:\n",
        "        soma = soma + num\n",
        "print (f\"O somatório dos elementos pares da lista é: {soma}\")"
      ],
      "metadata": {
        "colab": {
          "base_uri": "https://localhost:8080/"
        },
        "id": "ak3oh5umQ7if",
        "outputId": "bc5784c1-e358-479e-a977-fe1827d7fc1a"
      },
      "execution_count": null,
      "outputs": [
        {
          "output_type": "stream",
          "name": "stdout",
          "text": [
            "O somatório dos elementos pares da lista é: 30\n"
          ]
        }
      ]
    },
    {
      "cell_type": "markdown",
      "source": [],
      "metadata": {
        "id": "MNVrFnpJK5ex"
      }
    }
  ]
}