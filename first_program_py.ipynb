{
  "cells": [
    {
      "cell_type": "markdown",
      "metadata": {
        "id": "view-in-github",
        "colab_type": "text"
      },
      "source": [
        "<a href=\"https://colab.research.google.com/github/felipelimars/intro_python/blob/main/first_program_py.ipynb\" target=\"_parent\"><img src=\"https://colab.research.google.com/assets/colab-badge.svg\" alt=\"Open In Colab\"/></a>"
      ]
    },
    {
      "cell_type": "code",
      "execution_count": null,
      "metadata": {
        "colab": {
          "base_uri": "https://localhost:8080/"
        },
        "id": "BfWhlN2YSh4J",
        "outputId": "c4581ccc-0495-418d-ef1d-94c86f2d6404"
      },
      "outputs": [
        {
          "output_type": "stream",
          "name": "stdout",
          "text": [
            "Olá, seja bem vindo a calculadora de IMC!\n",
            "Digite seu nome: Felipe\n",
            "Digite seu peso: 72\n",
            "Digite sua altura: 1.70\n",
            "Felipe seu imc é:  24.91\n",
            "Felipe parabéns! seu peso está normal.\n"
          ]
        }
      ],
      "source": [
        "print(\"Olá, seja bem vindo a calculadora de IMC!\")\n",
        "nome = input(\"Digite seu nome: \")\n",
        "peso = float(input(\"Digite seu peso: \"))\n",
        "altura = float(input(\"Digite sua altura: \")) #exemplo 1.70\n",
        "imc = peso / (altura * altura)\n",
        "print(nome, \"seu imc é: \", round(imc, 2))\n",
        "\n",
        "if imc < 18.5:\n",
        "    print (nome, \"cuidado! Você está abaixo do peso.\")\n",
        "elif imc >= 18.5 or imc <= 24.9:\n",
        "    print(nome, \"parabéns! seu peso está normal.\")\n",
        "elif imc >= 25 or imc <= 29.9:\n",
        "    print(nome, \"você está com sobrepeso, procure um médico\")\n",
        "else:\n",
        "    print(nome, \"voce está com obesidade grave, procure um médico\")"
      ]
    }
  ],
  "metadata": {
    "colab": {
      "provenance": [],
      "authorship_tag": "ABX9TyPx4+cjPTT6bSEJQzLwjJKz",
      "include_colab_link": true
    },
    "kernelspec": {
      "display_name": "Python 3",
      "name": "python3"
    },
    "language_info": {
      "name": "python"
    }
  },
  "nbformat": 4,
  "nbformat_minor": 0
}